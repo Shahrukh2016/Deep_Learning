{
 "cells": [
  {
   "cell_type": "code",
   "execution_count": 1,
   "id": "565c3f7d",
   "metadata": {},
   "outputs": [],
   "source": [
    "## Imorting needed libraries\n",
    "import numpy as np"
   ]
  },
  {
   "cell_type": "code",
   "execution_count": 2,
   "id": "99a50491",
   "metadata": {},
   "outputs": [],
   "source": [
    "## Defining values of our target variable\n",
    "y_predicted = np.array([1,1,0,0,1])\n",
    "y_true = np.array([0.30,0.7,1,0,0.5])"
   ]
  },
  {
   "cell_type": "markdown",
   "id": "71ca0c3e",
   "metadata": {},
   "source": [
    "### Implementing Mean Absolute Error"
   ]
  },
  {
   "cell_type": "code",
   "execution_count": 6,
   "id": "d5a662f7",
   "metadata": {},
   "outputs": [],
   "source": [
    "## Defining function for mean absolute error\n",
    "def mae(y_predicted, y_true):\n",
    "    total_error = 0\n",
    "    for yp, yt in zip(y_predicted, y_true):\n",
    "        total_error += abs(yp - yt)\n",
    "    print(\"Total error is:\",total_error)\n",
    "    mae = total_error/len(y_predicted)\n",
    "    print(\"Mean absolute error is:\",mae)\n",
    "    return mae"
   ]
  },
  {
   "cell_type": "code",
   "execution_count": 5,
   "id": "3f2212e5",
   "metadata": {},
   "outputs": [
    {
     "name": "stdout",
     "output_type": "stream",
     "text": [
      "Total error is: 2.5\n",
      "Mean absolute error is: 0.5\n"
     ]
    },
    {
     "data": {
      "text/plain": [
       "0.5"
      ]
     },
     "execution_count": 5,
     "metadata": {},
     "output_type": "execute_result"
    }
   ],
   "source": [
    "## Checking the errors\n",
    "mae(y_predicted, y_true)"
   ]
  },
  {
   "cell_type": "markdown",
   "id": "c9f763ef",
   "metadata": {},
   "source": [
    "### Implementing Mean Absolte Error using NumPy"
   ]
  },
  {
   "cell_type": "code",
   "execution_count": 8,
   "id": "ef750728",
   "metadata": {},
   "outputs": [
    {
     "name": "stdout",
     "output_type": "stream",
     "text": [
      "Total error is: [0.7 0.3 1.  0.  0.5]\n",
      "Mean absolute error is: 0.5\n"
     ]
    }
   ],
   "source": [
    "## Calculating errors\n",
    "print(f\"Total error is: {np.abs(y_predicted-y_true)}\")\n",
    "print(f\"Mean absolute error is: {np.mean(np.abs(y_predicted-y_true))}\")"
   ]
  },
  {
   "cell_type": "code",
   "execution_count": null,
   "id": "264740a2",
   "metadata": {},
   "outputs": [],
   "source": []
  }
 ],
 "metadata": {
  "kernelspec": {
   "display_name": "Python 3 (ipykernel)",
   "language": "python",
   "name": "python3"
  },
  "language_info": {
   "codemirror_mode": {
    "name": "ipython",
    "version": 3
   },
   "file_extension": ".py",
   "mimetype": "text/x-python",
   "name": "python",
   "nbconvert_exporter": "python",
   "pygments_lexer": "ipython3",
   "version": "3.9.12"
  }
 },
 "nbformat": 4,
 "nbformat_minor": 5
}
